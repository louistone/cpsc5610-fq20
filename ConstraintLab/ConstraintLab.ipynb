{
 "cells": [
  {
   "cell_type": "markdown",
   "metadata": {},
   "source": [
    "## CSP Lab!\n",
    "\n",
    "* 1 point for completing the map coloring problem\n",
    "* 1 point for *significant progress* toward solving the Cryptarithmetic problem"
   ]
  },
  {
   "cell_type": "markdown",
   "metadata": {},
   "source": [
    "<span style=\"color:red\">Your Name(s) and Group Number here</span>"
   ]
  },
  {
   "cell_type": "markdown",
   "metadata": {},
   "source": [
    "#### Map Coloring\n",
    "\n",
    "This is the map coloring example;  Russell and Norvig, Figure 6.1\n",
    "![map example](australia.gif)\n",
    "\n",
    "Express the map-coloring problem from R&N Figure 6.1 as a CSP, and solve it.**\n",
    "\n",
    "Make the possible colors \"B\", \"G\", \"R\", \"Y\"\n"
   ]
  },
  {
   "cell_type": "code",
   "execution_count": null,
   "metadata": {},
   "outputs": [],
   "source": [
    "# Express the locations as a list of strings;  use the same labels as the figure\n",
    "# Express the adjacencies as a list of pairs of locations, for example, [(\"WA\", \"NT\"), ....]\n",
    "locations = None  # Modify this line\n",
    "adjacencies = None #Modify this line\n",
    "\n",
    "# Express colors as a list of strings.  For example for four-coloring\n",
    "colors = [\"B\", \"G\", \"R\", \"Y\"]"
   ]
  },
  {
   "cell_type": "code",
   "execution_count": null,
   "metadata": {},
   "outputs": [],
   "source": [
    "# Write a function mapColor(l, a, c) where the arguments are locations, adjacencies, and colors, represented as above.\n",
    "# This function should return a list with all possible colorings (so it will return the empty list if there are no\n",
    "# consistent colorings).\n",
    "\n",
    "def mapColor(l, a, c):\n",
    "    raise(\"Not implemented\")\n"
   ]
  },
  {
   "cell_type": "code",
   "execution_count": 1,
   "metadata": {},
   "outputs": [],
   "source": [
    "# In this cell, call the function to print *one* solution to the problem in the figure, using the colors\n",
    "# [\"B\", \"G\", \"R\", \"Y\"] or None if no solution exists \n",
    "# This cell should contain executable code"
   ]
  },
  {
   "cell_type": "code",
   "execution_count": null,
   "metadata": {},
   "outputs": [],
   "source": [
    "# In this cell, write a function minColors(l, a) where l and a are locations and adjacencies\n",
    "# as defined above.  It returns the minimum number of colors required to color the map\n",
    "# described by l and a\n",
    "\n",
    "def minColors(l, a):\n",
    "    raise(\"Not implemented\")\n"
   ]
  },
  {
   "cell_type": "code",
   "execution_count": null,
   "metadata": {},
   "outputs": [],
   "source": [
    "# In this cell, call the function to determine the minimum number of colors required\n",
    "# to color the Autralia map.\n",
    "# This cell should contain executable code"
   ]
  },
  {
   "cell_type": "markdown",
   "metadata": {},
   "source": [
    "---------------------------------------"
   ]
  },
  {
   "cell_type": "markdown",
   "metadata": {},
   "source": [
    "**#2 Solve the classic cryptarithmetic problem**\n",
    "\n",
    "<pre>\n",
    "    S E N D\n",
    " +  M O R E\n",
    " -------------\n",
    "  M O N E Y\n",
    "</pre>\n",
    "\n",
    "where each letter is assigned a digit.  There can be no leading zeros, \n",
    "so S and M cannot be 0\n",
    "\n",
    "R&N Figure 6.2 should be helpful.\n"
   ]
  },
  {
   "cell_type": "code",
   "execution_count": null,
   "metadata": {},
   "outputs": [],
   "source": [
    "# Write a function cryptArithmetic(s1, s2, s3) that returns a list of dictionary containing a mapping of\n",
    "# letters to digits, one for each possible solution to the problem.\n",
    "# For example, \n",
    "#  cryptArithmetic('SEND', 'MORE', 'MONEY') => \n",
    "#      [{'E': 5, 'M': 1, 'N': 6, 'O': 0, 'D': 7, 'R': 8, 'S': 9, 'Y': 2, 'C1': 1, 'C2': 1, 'C3': 0, 'C0': 0}]"
   ]
  },
  {
   "cell_type": "code",
   "execution_count": null,
   "metadata": {},
   "outputs": [],
   "source": [
    "# Demonstrate your code here:\n",
    "#print(cryptArithmetic('SEND', 'MORE', 'MONEY'))"
   ]
  }
 ],
 "metadata": {
  "kernelspec": {
   "display_name": "Python 3",
   "language": "python",
   "name": "python3"
  },
  "language_info": {
   "codemirror_mode": {
    "name": "ipython",
    "version": 3
   },
   "file_extension": ".py",
   "mimetype": "text/x-python",
   "name": "python",
   "nbconvert_exporter": "python",
   "pygments_lexer": "ipython3",
   "version": "3.7.0"
  }
 },
 "nbformat": 4,
 "nbformat_minor": 2
}
