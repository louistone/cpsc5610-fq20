{
 "cells": [
  {
   "cell_type": "markdown",
   "metadata": {},
   "source": [
    "#### Question 3 -- Strimko\n",
    "\n",
    "<span style='color:red'>Your name here</span>\n",
    "\n",
    "Here is some template information for handing in your Strimko solution.\n",
    "\n",
    "We will review and test your solution by\n",
    "1.  Putting test code at the end of the notebook\n",
    "1.  Restart kernel & run all\n",
    "\n",
    "This notebook must run from beginning to end without error, and must not produce any code output."
   ]
  },
  {
   "cell_type": "code",
   "execution_count": 1,
   "metadata": {},
   "outputs": [],
   "source": [
    "# Do not change this cell -- you may assume that the search framework and client interface\n",
    "# files will be in the same directory as this notebook\n",
    "\n",
    "from searchFramework import aStarSearch\n",
    "from searchClientInterface import WorldState"
   ]
  },
  {
   "cell_type": "markdown",
   "metadata": {},
   "source": [
    "##### Strimko Problem Definition\n",
    "\n",
    "Input\n",
    "1.  Initial assignments -- an NxN array.  Every entry in the array must be a positive integer between 1 and N, or 0.  A positive value is the initial value for that row and column.  A zero means the (row, column) begins unassigned.  Initial assignments must respect the game rules: the same value must not appear in the same row, column, or chain\n",
    "2.  Chains -- a list of length at most N.  Each entry in the list is a list of (row, column) tuples defining a chain (a set of positions that are adjacent, and must not contain the same value\n",
    "\n",
    "Output\n",
    "1.  Solution board:  an NxN array where every (row, column) is assigned, and the assignment must satisfy row, column, and chain constraints"
   ]
  },
  {
   "cell_type": "code",
   "execution_count": 2,
   "metadata": {},
   "outputs": [],
   "source": [
    "#  All of your code for Strimko -- except the heuristic -- goes in this cell\n",
    "#\n",
    "# Function accepts:\n",
    "#   initialAssignments and chains as defined above\n",
    "#   strategy specifies the evaluator;  the string must be either \"bfs\", or \"dfs\"\n",
    "#   verbose and limit -- passed to the search function\n",
    "#\n",
    "# returns:  (solutionBoard, stats)\n",
    "#   solutionBoard as defined above \n",
    "#   stats is the stats tuple returned by aStarSearch\n",
    "#\n",
    "\n",
    "# Your function may assume that initialAssignments and chains argument are correct\n",
    "\n",
    "def solveStrimko(initialAssignments, chains, strategy=\"bfs\", verbose=None, limit=None):\n",
    "    raise(Exception(\"Not Implemented\"))\n"
   ]
  },
  {
   "cell_type": "markdown",
   "metadata": {},
   "source": [
    "##### Strimko Output Example \n",
    "<span style=\"color:red\">Delete this cell</span>\n",
    "```\n",
    "initialAssignments = [[0,0,0,0,0],\n",
    "                      [0,0,0,0,0],\n",
    "                      [0,0,0,0,0],\n",
    "                      [0,0,0,0,0],\n",
    "                      [0,0,0,0,5]]\n",
    "\n",
    "chains    = [[(0,1),(0,0),(1,0),(2,1),(1,2)],\n",
    "             [(0,2),(1,1),(2,0),(3,0),(4,1)],\n",
    "             [(4,0),(3,1),(3,2),(3,3),(2,3)],\n",
    "             [(4,2),(4,3),(4,4),(3,4),(2,4)],\n",
    "             [(2,2),(1,3),(1,4),(0,4),(0,3)]]\n",
    "             \n",
    "print(solveStrimko(initialAssignments, chains, \"bfs\", None, 20000))\n",
    "print(solveStrimko(initialAssignments, chains, \"dfs\", None, 20000))\n",
    "\n",
    "([[5, 2, 4, 3, 1], [3, 5, 1, 4, 2], [1, 4, 5, 2, 3], [2, 1, 3, 5, 4], [4, 3, 2, 1, 5]], (6.609375, 4050, 0, 507))\n",
    "([[5, 2, 4, 3, 1], [3, 5, 1, 4, 2], [1, 4, 5, 2, 3], [2, 1, 3, 5, 4], [4, 3, 2, 1, 5]], (0.328125, 169, 0, 13))\n",
    "```\n",
    "\n",
    "There are additional examples in testBoards.py you can use for testing and experimentation."
   ]
  },
  {
   "cell_type": "markdown",
   "metadata": {},
   "source": [
    "#### Choice of Search Strategy\n",
    "\n",
    "In the markdown cell below, discuss the choice of breadth-first versus depth-first search.\n",
    "\n",
    "Which is the preferable strategy?  Why, and run experiments to support your conclusion."
   ]
  },
  {
   "cell_type": "markdown",
   "metadata": {},
   "source": [
    "<span style=\"color:red\"> Put your analysis in this cell.  You should either recommend one strategy over another, or conclude it doesn't matter, or depends on the problem.  You should present empirical results supporting your conclusion.\n",
    "</span>\n"
   ]
  },
  {
   "cell_type": "markdown",
   "metadata": {},
   "source": [
    "#### Heuristic (optional)\n",
    "<span style=\"color:red\">Delete this cell and below if you did not implement a heuristic</span>"
   ]
  },
  {
   "cell_type": "code",
   "execution_count": 3,
   "metadata": {},
   "outputs": [],
   "source": [
    "##  In this cell put the class definition for your heuristic evaluator"
   ]
  },
  {
   "cell_type": "code",
   "execution_count": 4,
   "metadata": {},
   "outputs": [],
   "source": [
    "## In this cell put a definition that calls your estimator.  It is otherwise identical to solvePancakeSort\n",
    "\n",
    "def solveStrimkoHeuristic(inputArray, verbose=None, limit=None):\n",
    "    raise(Exception(\"Not Implemented\"))"
   ]
  },
  {
   "cell_type": "markdown",
   "metadata": {},
   "source": [
    "#####  Empirical Analysis of Heuristic\n",
    "\n",
    "In this markdown cell, present your evidence that your heursitic outperforms the best strategy you recommended in your analysis above.\n",
    "\n",
    "\n",
    "```\n",
    "Reminder of how you put copied code and output in a markdown cell, formatted nicely\n",
    "```"
   ]
  }
 ],
 "metadata": {
  "kernelspec": {
   "display_name": "Python 3",
   "language": "python",
   "name": "python3"
  },
  "language_info": {
   "codemirror_mode": {
    "name": "ipython",
    "version": 3
   },
   "file_extension": ".py",
   "mimetype": "text/x-python",
   "name": "python",
   "nbconvert_exporter": "python",
   "pygments_lexer": "ipython3",
   "version": "3.7.0"
  }
 },
 "nbformat": 4,
 "nbformat_minor": 2
}
