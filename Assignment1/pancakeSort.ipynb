{
 "cells": [
  {
   "cell_type": "markdown",
   "metadata": {},
   "source": [
    "#### Question 2 -- Pancake Sort\n",
    "\n",
    "<span style='color:red'>Your name here</span>\n",
    "\n",
    "Here is some template information for handing in your pancake sort solution.\n",
    "\n",
    "We will review and test your solution by\n",
    "1.  Putting test code at the end of the notebook\n",
    "1.  Restart kernel & run all\n",
    "\n",
    "This notebook must run from beginning to end without error, and must not produce any code output.\n"
   ]
  },
  {
   "cell_type": "code",
   "execution_count": 1,
   "metadata": {},
   "outputs": [],
   "source": [
    "# Do not change this cell -- you may assume that the search framework and client interface\n",
    "# files will be in the same directory as this notebook\n",
    "\n",
    "from searchFramework import aStarSearch\n",
    "from searchClientInterface import WorldState"
   ]
  },
  {
   "cell_type": "code",
   "execution_count": 2,
   "metadata": {},
   "outputs": [],
   "source": [
    "#  All of your code for pancake sort -- except the heuristic -- goes in this cell\n",
    "\n",
    "# inputArray: an array of integers\n",
    "# strategy:  either \"bfs\" or \"dfs\" if you implemented a heuristic, it will go below\n",
    "# verbose and limit:  sent to aStarSearch function\n",
    "#\n",
    "# returns:  (listOfFlipActions, stats)\n",
    "#   where stats is the stats tuple returned by aStarSearch\n",
    "\n",
    "def solvePancakeSort(inputArray, strategy=\"bfs\", verbose=None, limit=None):\n",
    "    raise(Exception(\"Not Implemented\"))\n"
   ]
  },
  {
   "cell_type": "markdown",
   "metadata": {},
   "source": [
    "##### Pancake Sort Output Example \n",
    "<span style=\"color:red\">Delete this cell</span>\n",
    "\n",
    "<pre>\n",
    "print(solvePancakeSort([3, 1, 4, 5, 2]))\n",
    "print(solvePancakeSort([7, 6, 2, 3, 4, 5, 1], strategy=\"bfs\", verbose=None, limit=5000))\n",
    "print(solvePancakeSort([7, 6, 2, 3, 4, 5, 1], strategy=\"dfs\", verbose=None, limit=5000))\n",
    "\n",
    "(['flip_1', 'flip_3', 'flip_4', 'flip_1'], (0.015625, 90, 27, 160))\n",
    "(['flip_5', 'flip_3', 'flip_5', 'flip_6'], (1.171875, 901, 276, 2847))\n",
    "(None, (23.640625, 5001, 2089, 12467))\n",
    "</pre>"
   ]
  },
  {
   "cell_type": "markdown",
   "metadata": {},
   "source": [
    "#### Heuristic (optional)\n",
    "<span style=\"color:red\">Delete this cell and below if you did not implement a heuristic</span>\n"
   ]
  },
  {
   "cell_type": "code",
   "execution_count": 3,
   "metadata": {},
   "outputs": [],
   "source": [
    "##  In this cell put the class definition for your heuristic evaluator\n"
   ]
  },
  {
   "cell_type": "code",
   "execution_count": 4,
   "metadata": {},
   "outputs": [],
   "source": [
    "## In this cell put a definition that calls your estimator.  It is otherwise identical to solvePancakeSort\n",
    "\n",
    "def solvePancakeSortHeuristic(inputArray, verbose=None, limit=None):\n",
    "    raise(Exception(\"Not Implemented\"))\n",
    "    "
   ]
  },
  {
   "cell_type": "markdown",
   "metadata": {},
   "source": [
    "#####  Empirical Analysis of Heuristic\n",
    "\n",
    "In this markdown cell, present your evidence that your heursitic outperforms BFS\n",
    "\n",
    "```\n",
    "Reminder of how you put copied code and output in a markdown cell, formatted nicely\n",
    "```"
   ]
  },
  {
   "cell_type": "code",
   "execution_count": null,
   "metadata": {},
   "outputs": [],
   "source": []
  }
 ],
 "metadata": {
  "kernelspec": {
   "display_name": "Python 3",
   "language": "python",
   "name": "python3"
  },
  "language_info": {
   "codemirror_mode": {
    "name": "ipython",
    "version": 3
   },
   "file_extension": ".py",
   "mimetype": "text/x-python",
   "name": "python",
   "nbconvert_exporter": "python",
   "pygments_lexer": "ipython3",
   "version": "3.7.0"
  }
 },
 "nbformat": 4,
 "nbformat_minor": 2
}
