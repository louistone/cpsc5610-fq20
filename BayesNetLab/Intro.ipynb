{
 "cells": [
  {
   "cell_type": "markdown",
   "metadata": {},
   "source": [
    "### Bayesian Network Inference Library\n",
    "\n",
    "We will be using the pomegranate library for Bayes Net inference\n",
    "\n",
    "  * Installation instructions https://pomegranate.readthedocs.io/en/latest/install.html\n",
    "  * Tutorial / documentation https://pomegranate.readthedocs.io/en/latest/BayesianNetwork.html\n",
    "  \n",
    "In the tutorial / documentation, ignore the parts about \"initializing a Bayesian network based completely on data\" and the sections on \"Probability\" \"Prediction\" and \"Fitting\" -- see the example below on how to determine the probability distribution on a node in the graph based on evidence.\n",
    "\n",
    "Just to make sure things are working, first load in the Monty Hall code from the tutorial and answer the question about whether or not a contestant should take Monty up on his offer to switch doors.\n",
    "\n",
    "The Monty Hall problem:  \n",
    "  * A prize is placed randomly between door A or door B or door C\n",
    "  * The guest chooses one of those three doors\n",
    "  * Monty then reveals whether or not one of the other doors contains the prize\n",
    "     * Monty will never reveal the door that the guest chooses\n",
    "     * Monty will nevery reveal the door with the prize\n",
    "  * Monty gives the guest the chance to change choices to the door that Monty didn't reveal\n",
    "     \n",
    "Suppose for example the guest chooses door A.  Monty then reveals that door B does not contain the prize.  Which is the case:\n",
    "\n",
    "  * This information is of no use to the guest.  It is now equally likely that the prize is behind A and behind C.  Therefore the guest has no incentive to change from A to C\n",
    "  * It is now more likely that the prize is behind C, so the guest should switch to C\n",
    "  * It is now more likely that the prize is behind A, so the guest should not switch\n"
   ]
  },
  {
   "cell_type": "markdown",
   "metadata": {},
   "source": [
    "---------------------------------------\n",
    "\n",
    "![Monty](MontyPicture.GIF)\n",
    "\n",
    "---------------------------------------"
   ]
  },
  {
   "cell_type": "code",
   "execution_count": 1,
   "metadata": {},
   "outputs": [],
   "source": [
    "from pomegranate import *\n",
    "\n",
    "# The three \"random variables\" are\n",
    "#    guest -- what door will the guest choose -- doors are A, B, and C\n",
    "#    prize -- what door is the prize behind\n",
    "#    monty -- what door will Monty open.  This is a function of both guest and prize:\n",
    "#               Monty will never open the door the guest chooses and will never open the \n",
    "#               door with the prize (if the guest doesn't choose it)\n",
    "#             So the first three lines of the CPT below say the guest chooses A and \n",
    "#               the prize is behind A, and then Monty will choose B or C with equal probability\n",
    "\n",
    "# Notice the pattern of building networks:  \n",
    "#   -- build your distributions -- either DiscreteDistribution for nodes without parents\n",
    "#          or ConditionalProbabilityTable for nodes with parents.  The CPT for Monty needs 27 \n",
    "#          entries, since there are 9 possible combination of parent values, and three possible\n",
    "#          values the monty random variable can take.\n",
    "\n",
    "guestdist = DiscreteDistribution({'A': 1./3, 'B': 1./3, 'C': 1./3})\n",
    "prizedist = DiscreteDistribution({'A': 1./3, 'B': 1./3, 'C': 1./3})\n",
    "montydist = ConditionalProbabilityTable(\n",
    "        [['A', 'A', 'A', 0.0],\n",
    "         ['A', 'A', 'B', 0.5],\n",
    "         ['A', 'A', 'C', 0.5],\n",
    "         ['A', 'B', 'A', 0.0],\n",
    "         ['A', 'B', 'B', 0.0],\n",
    "         ['A', 'B', 'C', 1.0],\n",
    "         ['A', 'C', 'A', 0.0],\n",
    "         ['A', 'C', 'B', 1.0],\n",
    "         ['A', 'C', 'C', 0.0],\n",
    "         ['B', 'A', 'A', 0.0],\n",
    "         ['B', 'A', 'B', 0.0],\n",
    "         ['B', 'A', 'C', 1.0],\n",
    "         ['B', 'B', 'A', 0.5],\n",
    "         ['B', 'B', 'B', 0.0],\n",
    "         ['B', 'B', 'C', 0.5],\n",
    "         ['B', 'C', 'A', 1.0],\n",
    "         ['B', 'C', 'B', 0.0],\n",
    "         ['B', 'C', 'C', 0.0],\n",
    "         ['C', 'A', 'A', 0.0],\n",
    "         ['C', 'A', 'B', 1.0],\n",
    "         ['C', 'A', 'C', 0.0],\n",
    "         ['C', 'B', 'A', 1.0],\n",
    "         ['C', 'B', 'B', 0.0],\n",
    "         ['C', 'B', 'C', 0.0],\n",
    "         ['C', 'C', 'A', 0.5],\n",
    "         ['C', 'C', 'B', 0.5],\n",
    "         ['C', 'C', 'C', 0.0]], [guestdist, prizedist])\n",
    "\n",
    "s1 = Node(guestdist, name=\"guest\")\n",
    "s2 = Node(prizedist, name=\"prize\")\n",
    "s3 = Node(montydist, name=\"monty\")\n",
    "\n",
    "model = BayesianNetwork(\"Monty Hall Problem\")\n",
    "model.add_states(s1, s2, s3)\n",
    "model.add_edge(s1, s3)\n",
    "model.add_edge(s2, s3)\n",
    "model.bake()"
   ]
  },
  {
   "cell_type": "code",
   "execution_count": 2,
   "metadata": {},
   "outputs": [
    {
     "data": {
      "text/plain": [
       "array([{\n",
       "    \"class\" :\"Distribution\",\n",
       "    \"dtype\" :\"str\",\n",
       "    \"name\" :\"DiscreteDistribution\",\n",
       "    \"parameters\" :[\n",
       "        {\n",
       "            \"A\" :0.3333333333333333,\n",
       "            \"B\" :0.3333333333333333,\n",
       "            \"C\" :0.3333333333333333\n",
       "        }\n",
       "    ],\n",
       "    \"frozen\" :false\n",
       "},\n",
       "       {\n",
       "    \"class\" :\"Distribution\",\n",
       "    \"dtype\" :\"str\",\n",
       "    \"name\" :\"DiscreteDistribution\",\n",
       "    \"parameters\" :[\n",
       "        {\n",
       "            \"A\" :0.3333333333333333,\n",
       "            \"B\" :0.3333333333333333,\n",
       "            \"C\" :0.3333333333333333\n",
       "        }\n",
       "    ],\n",
       "    \"frozen\" :false\n",
       "},\n",
       "       {\n",
       "    \"class\" :\"Distribution\",\n",
       "    \"dtype\" :\"str\",\n",
       "    \"name\" :\"DiscreteDistribution\",\n",
       "    \"parameters\" :[\n",
       "        {\n",
       "            \"B\" :0.3333333333333333,\n",
       "            \"A\" :0.3333333333333333,\n",
       "            \"C\" :0.3333333333333333\n",
       "        }\n",
       "    ],\n",
       "    \"frozen\" :false\n",
       "}], dtype=object)"
      ]
     },
     "execution_count": 2,
     "metadata": {},
     "output_type": "execute_result"
    }
   ],
   "source": [
    "# Based on no more evidence, what is the likelihood that the contestant will win the prize?\n",
    "model.predict_proba({})"
   ]
  },
  {
   "cell_type": "code",
   "execution_count": null,
   "metadata": {},
   "outputs": [],
   "source": [
    "# The list above is a list of nodes, or states. How do you get the \n",
    "# name of the nodes?   \n",
    "\n",
    "list(map(lambda s: s.name, model.states))"
   ]
  },
  {
   "cell_type": "code",
   "execution_count": null,
   "metadata": {},
   "outputs": [],
   "source": [
    "model.predict_proba({})[2].parameters"
   ]
  },
  {
   "cell_type": "code",
   "execution_count": 3,
   "metadata": {},
   "outputs": [
    {
     "data": {
      "text/plain": [
       "array(['A',\n",
       "       {\n",
       "    \"class\" :\"Distribution\",\n",
       "    \"dtype\" :\"str\",\n",
       "    \"name\" :\"DiscreteDistribution\",\n",
       "    \"parameters\" :[\n",
       "        {\n",
       "            \"A\" :0.3333333333333334,\n",
       "            \"B\" :0.0,\n",
       "            \"C\" :0.6666666666666664\n",
       "        }\n",
       "    ],\n",
       "    \"frozen\" :false\n",
       "},\n",
       "       'B'], dtype=object)"
      ]
     },
     "execution_count": 3,
     "metadata": {},
     "output_type": "execute_result"
    }
   ],
   "source": [
    "##  Suppose the guest chooses A, and Monty chooses B.\n",
    "##  Monty gives the guest to switch from A to C.  Should she?\n",
    "\n",
    "model.predict_proba({\"guest\": 'A', \"monty\": 'B'})"
   ]
  },
  {
   "cell_type": "code",
   "execution_count": 17,
   "metadata": {},
   "outputs": [],
   "source": [
    "def nodeIndex(nodeName, probs):\n",
    "    return list(map(lambda s: s.name, model.states)).index(nodeName)\n",
    "\n",
    "def probDist(nodeName, model, evidence):\n",
    "    return model.predict_proba(evidence)[nodeIndex(nodeName, model)].parameters[0]"
   ]
  },
  {
   "cell_type": "code",
   "execution_count": 18,
   "metadata": {},
   "outputs": [
    {
     "data": {
      "text/plain": [
       "{'A': 0.3333333333333334, 'B': 0.0, 'C': 0.6666666666666664}"
      ]
     },
     "execution_count": 18,
     "metadata": {},
     "output_type": "execute_result"
    }
   ],
   "source": [
    "probDist('prize', model, {\"guest\": 'A', \"monty\": 'B'})"
   ]
  },
  {
   "cell_type": "markdown",
   "metadata": {},
   "source": [
    "----------------------------------------------------------------\n",
    "\n",
    "### Second Example:  Typical Noisy Sensor\n",
    "\n",
    "* The variable **water** says whether or not there is water in my basement.  This variable takes values **{none, some, lots}**\n",
    "* I have a water detector **waterDetector** that is either **on** or **off**\n",
    "  * It is supposed to be **on** if and only if **water** is either **some** or **lots**\n",
    "  * However, it sometimes fails to alert (is **off** when **water** is either **some** or **lots**)\n",
    "  * It also sometimes false alarms (is **on** when **water** is **none**)\n",
    "\n",
    "This is what I discovered by observing the basement over time\n",
    "* On any given day, the probability of **water** is **(.98, .015, .005)** for values **(none, some, lots)**\n",
    "* The likelihood of a false alarm **P(waterDetector = on | water = none) = 0.01**\n",
    "* The likelihood of the sensor missing water depends on the water level: **P(waterDetector = off | water = some) = .10**;   **P(waterDetector = off | water = lots) = .005**\n"
   ]
  },
  {
   "cell_type": "code",
   "execution_count": null,
   "metadata": {},
   "outputs": [],
   "source": [
    "      "
   ]
  },
  {
   "cell_type": "markdown",
   "metadata": {},
   "source": [
    "With no further information, what is the likelihood that (a) there is some or lots of water in my basement, and (b) what is the likelihood that my water detector is displaying ON"
   ]
  },
  {
   "cell_type": "code",
   "execution_count": null,
   "metadata": {},
   "outputs": [],
   "source": [
    "# Compute probabilities on the basis of no additional evidence.  Its output is a list of \n",
    "# distributions over node values, in the order they were added -- in our case, water is at [0] and waterDetector is at [1]\n"
   ]
  },
  {
   "cell_type": "code",
   "execution_count": null,
   "metadata": {},
   "outputs": [],
   "source": [
    "# This is the distribution over values of water -- not surprising, it is the same as the priors \n",
    "#  (subject to rounding error)\n"
   ]
  },
  {
   "cell_type": "code",
   "execution_count": null,
   "metadata": {},
   "outputs": [],
   "source": [
    "# This is the distribution over values of waterDetector\n"
   ]
  },
  {
   "cell_type": "markdown",
   "metadata": {},
   "source": [
    "Suppose I learn that the water detector is **on**.  How does that affect my beliefs over the basement water level"
   ]
  },
  {
   "cell_type": "code",
   "execution_count": null,
   "metadata": {},
   "outputs": [],
   "source": []
  },
  {
   "cell_type": "markdown",
   "metadata": {},
   "source": [
    "Suppose instead I go to the basement and observe that there is no water in the basement.  \n",
    "How does that affect my belief as to whether or not the water detector is on?"
   ]
  },
  {
   "cell_type": "code",
   "execution_count": null,
   "metadata": {},
   "outputs": [],
   "source": []
  },
  {
   "cell_type": "markdown",
   "metadata": {},
   "source": [
    "Suppose I have no information about the water level and the detector.  What is the probability that there is either some or lots of water, and that the water detector is off?"
   ]
  }
 ],
 "metadata": {
  "kernelspec": {
   "display_name": "Python 3",
   "language": "python",
   "name": "python3"
  },
  "language_info": {
   "codemirror_mode": {
    "name": "ipython",
    "version": 3
   },
   "file_extension": ".py",
   "mimetype": "text/x-python",
   "name": "python",
   "nbconvert_exporter": "python",
   "pygments_lexer": "ipython3",
   "version": "3.7.0"
  }
 },
 "nbformat": 4,
 "nbformat_minor": 2
}
