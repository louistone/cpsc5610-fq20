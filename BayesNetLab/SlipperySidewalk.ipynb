{
 "cells": [
  {
   "cell_type": "markdown",
   "metadata": {},
   "source": [
    "Here is a common network example about a sidewalk.  Maybe it will inform a package-delivery agent as to the right speed or tires to use on its delivery route!\n",
    "\n",
    "We have four variables:\n",
    "* Season, which has domain 0 to 3 (Winter, Spring, Summer, Fall) \n",
    "* Sprinkler on, Rain,  Sidewalk Wet, and Sidewalk Slippery, all of which are binary\n",
    "\n",
    "The network tells us that the variable **Season** directly influences both **Sprinkler** and **Rain** -- we discovered  that the sprinkler system is on a preset schedule that depends only on the season, and not on whether or not it is raining.  **Sprinkler** and **Rain**  both in turn influence **Wet**, which in turn influences **Slippery**.\n"
   ]
  },
  {
   "cell_type": "markdown",
   "metadata": {},
   "source": [
    "![Slippery](SlipperyPicture.GIF)"
   ]
  },
  {
   "cell_type": "markdown",
   "metadata": {},
   "source": [
    "We have a data set with historical observations about the variables.  In this case we have sampled from the joint distribution fully.\n",
    "\n",
    "The data set is in the file slippery.csv.  In this file, Season is coded as 0 to 3 (Winter, Spring, Summer, Fall) and the other variables are binary (0 for false 1 for true).\n",
    "\n",
    "If we were diligent data scientists, we would have to verify that the conditional independence assumptions implicit in the model are actually reflected in our sample.  For example, the network embodies the assumption that **Wet** is independent of both **Season** and **Sprinkler** conditioned on **Rain**.  This is either (approximately) true or false in the data set.\n",
    "\n",
    "But rather than that, we will use the sample to get the probability parameters we need to build our network."
   ]
  },
  {
   "cell_type": "code",
   "execution_count": null,
   "metadata": {},
   "outputs": [],
   "source": [
    "# Read the file into a data frame and look at the first few rows\n",
    "import pandas as pd\n",
    "df = pd.read_csv(\"slippery.csv\", sep=\",\")"
   ]
  },
  {
   "cell_type": "code",
   "execution_count": null,
   "metadata": {},
   "outputs": [],
   "source": [
    "type(df)"
   ]
  },
  {
   "cell_type": "code",
   "execution_count": null,
   "metadata": {},
   "outputs": [],
   "source": [
    "df.head()"
   ]
  },
  {
   "cell_type": "code",
   "execution_count": null,
   "metadata": {},
   "outputs": [],
   "source": [
    "df.shape"
   ]
  },
  {
   "cell_type": "code",
   "execution_count": null,
   "metadata": {},
   "outputs": [],
   "source": [
    "df.columns"
   ]
  },
  {
   "cell_type": "code",
   "execution_count": null,
   "metadata": {},
   "outputs": [],
   "source": [
    "# The columns came from the csv file\n",
    "df.columns"
   ]
  },
  {
   "cell_type": "code",
   "execution_count": null,
   "metadata": {},
   "outputs": [],
   "source": [
    "len(df['Season'])"
   ]
  },
  {
   "cell_type": "code",
   "execution_count": null,
   "metadata": {},
   "outputs": [],
   "source": [
    "type(df.Season)"
   ]
  },
  {
   "cell_type": "code",
   "execution_count": null,
   "metadata": {},
   "outputs": [],
   "source": [
    "df.shape"
   ]
  },
  {
   "cell_type": "code",
   "execution_count": null,
   "metadata": {},
   "outputs": [],
   "source": [
    "df.Season.value_counts()"
   ]
  },
  {
   "cell_type": "code",
   "execution_count": null,
   "metadata": {},
   "outputs": [],
   "source": [
    "df.Season.value_counts()"
   ]
  },
  {
   "cell_type": "code",
   "execution_count": null,
   "metadata": {},
   "outputs": [],
   "source": [
    "# This is marginal probability of Season\n",
    "df.Season.value_counts() / df.shape[0]"
   ]
  },
  {
   "cell_type": "code",
   "execution_count": null,
   "metadata": {},
   "outputs": [],
   "source": [
    "(df.Season.value_counts() / df.shape[0]).sort_index()"
   ]
  },
  {
   "cell_type": "code",
   "execution_count": null,
   "metadata": {},
   "outputs": [],
   "source": [
    "# P(Sprinkler | Season)\n",
    "pd.crosstab(df.Sprinkler, df.Season, normalize='columns')"
   ]
  },
  {
   "cell_type": "code",
   "execution_count": null,
   "metadata": {},
   "outputs": [],
   "source": [
    "pss = pd.crosstab(df.Sprinkler, df.Season, normalize='columns')\n",
    "print(f\"Distribution conditioned on Season=2: {list(pss[2])}\")\n",
    "print(f\"P(Sprinkler = 1 | Season=3): {pss[3][1]}\")"
   ]
  },
  {
   "cell_type": "code",
   "execution_count": null,
   "metadata": {},
   "outputs": [],
   "source": [
    "# P(Wet | Sprinkler, Rain)\n",
    "pd.crosstab(df.Wet, [df.Sprinkler, df.Rain], normalize='columns')"
   ]
  },
  {
   "cell_type": "code",
   "execution_count": null,
   "metadata": {},
   "outputs": [],
   "source": [
    "pwsr = pd.crosstab(df.Wet, [df.Sprinkler, df.Rain], normalize='columns')\n",
    "print(f\"P(Wet = 1 | Sprinker=1, Rain=0): {pwsr[1][0][1]}\")"
   ]
  },
  {
   "cell_type": "code",
   "execution_count": null,
   "metadata": {},
   "outputs": [],
   "source": [
    "# P(Slippery | Wet)\n",
    "pd.crosstab(df.Slippery, df.Wet, normalize='columns')"
   ]
  },
  {
   "cell_type": "code",
   "execution_count": null,
   "metadata": {},
   "outputs": [],
   "source": []
  }
 ],
 "metadata": {
  "kernelspec": {
   "display_name": "Python 3",
   "language": "python",
   "name": "python3"
  },
  "language_info": {
   "codemirror_mode": {
    "name": "ipython",
    "version": 3
   },
   "file_extension": ".py",
   "mimetype": "text/x-python",
   "name": "python",
   "nbconvert_exporter": "python",
   "pygments_lexer": "ipython3",
   "version": "3.7.0"
  }
 },
 "nbformat": 4,
 "nbformat_minor": 2
}
